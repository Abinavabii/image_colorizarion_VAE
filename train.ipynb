{
 "cells": [
  {
   "cell_type": "code",
   "execution_count": null,
   "id": "c6b58a1d",
   "metadata": {},
   "outputs": [],
   "source": [
    "def lab_to_rgb(L, ab):\n",
    "    \"\"\"\n",
    "    Takes an image or a batch of images and converts from LAB space to RGB\n",
    "    \"\"\"\n",
    "    L = L  * 100\n",
    "    ab = (ab - 0.5) * 128 * 2\n",
    "    Lab = np.concatenate([L, ab], dim=2).numpy()\n",
    "    rgb_imgs = []\n",
    "    for img in Lab:\n",
    "        img_rgb = Image.lab2rgb(img)\n",
    "        rgb_imgs.append(img_rgb)\n",
    "    return np.stack(rgb_imgs, axis=0)"
   ]
  },
  {
   "cell_type": "code",
   "execution_count": null,
   "id": "37ffe82b",
   "metadata": {},
   "outputs": [],
   "source": [
    "plt.figure(figsize=(30,30))\n",
    "for i in range(1,16,2):\n",
    "    plt.subplot(4,4,i)\n",
    "    img = np.zeros((224,224,3))\n",
    "    img[:,:,0] = L_df[i]\n",
    "    plt.title('B&W')\n",
    "    plt.imshow(lab2rgb(img))\n",
    "\n",
    "    plt.subplot(4,4,i+1)\n",
    "    img[:,:,1:] = ab_df[i]\n",
    "    img = img.astype('uint8')\n",
    "    img = cv2.cvtColor(img, cv2.COLOR_LAB2RGB)\n",
    "    plt.title('Colored')\n",
    "    plt.imshow(img)"
   ]
  },
  {
   "cell_type": "code",
   "execution_count": null,
   "id": "6e140801",
   "metadata": {},
   "outputs": [],
   "source": [
    "img_size = 224\n",
    "batch_size = 64\n",
    "INPUT_DIM = (img_size,img_size,1)\n",
    "Z_DIM = 64"
   ]
  },
  {
   "cell_type": "code",
   "execution_count": null,
   "id": "9393b956",
   "metadata": {},
   "outputs": [],
   "source": [
    "x = x = (L_df/255).astype('float32')\n",
    "y = (ab_df/255).astype('float32')"
   ]
  },
  {
   "cell_type": "code",
   "execution_count": null,
   "id": "55d50bef",
   "metadata": {},
   "outputs": [],
   "source": [
    "import tensorflow as tf\n",
    "from sklearn.model_selection import train_test_split\n",
    "\n",
    "train_x, test_x, train_y, test_y = train_test_split( x , y , test_size=0.1, random_state=42 )"
   ]
  },
  {
   "cell_type": "code",
   "execution_count": null,
   "id": "f38e70e7",
   "metadata": {},
   "outputs": [],
   "source": []
  }
 ],
 "metadata": {
  "kernelspec": {
   "display_name": "Python 3 (ipykernel)",
   "language": "python",
   "name": "python3"
  },
  "language_info": {
   "codemirror_mode": {
    "name": "ipython",
    "version": 3
   },
   "file_extension": ".py",
   "mimetype": "text/x-python",
   "name": "python",
   "nbconvert_exporter": "python",
   "pygments_lexer": "ipython3",
   "version": "3.9.12"
  }
 },
 "nbformat": 4,
 "nbformat_minor": 5
}
